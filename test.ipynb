{
 "cells": [
  {
   "cell_type": "code",
   "execution_count": 1,
   "metadata": {},
   "outputs": [],
   "source": [
    "\n",
    "import torch\n",
    "import numpy as np\n",
    "import random\n",
    "import itertools\n",
    "import torch\n",
    "import torch.nn as nn\n",
    "import torch.optim as optim\n",
    "from torch.utils.data import DataLoader, TensorDataset\n",
    "from sklearn.model_selection import train_test_split\n",
    "import numpy as np\n",
    "from tqdm import tqdm\n",
    "from sklearn.preprocessing import StandardScaler\n",
    "import matplotlib.pyplot as plt\n",
    "import keyboard\n",
    "import sys\n",
    "sys.path.append(\"model\") "
   ]
  },
  {
   "cell_type": "code",
   "execution_count": 4,
   "metadata": {},
   "outputs": [],
   "source": [
    "def model(x):\n",
    "    return 2*x\n",
    "\n",
    "\n",
    "x = torch.tensor([[1,2],[2,3]], dtype=torch.float32, requires_grad=True)\n",
    "y = model(x)\n",
    "y[1][1].backward()  # 计算导数,只能计算标量\n",
    "grad = x.grad  # 获取导数"
   ]
  },
  {
   "cell_type": "code",
   "execution_count": 5,
   "metadata": {},
   "outputs": [
    {
     "data": {
      "text/plain": [
       "tensor([[0., 0.],\n",
       "        [0., 2.]])"
      ]
     },
     "execution_count": 5,
     "metadata": {},
     "output_type": "execute_result"
    }
   ],
   "source": [
    "\n",
    "# 加载模型\n",
    "model = torch.load('path_to_your_model').eval()\n",
    "\n",
    "# 准备输入数据\n",
    "M, N = 10, 10  # 示例维度\n",
    "x = torch.randn(1, M, N, requires_grad=True)\n",
    "\n",
    "# 计算输出\n",
    "y = model(x)\n",
    "\n",
    "# 初始化雅可比矩阵\n",
    "N1 = y.shape[1]\n",
    "J = torch.zeros(N1, M*N)  # 初始化雅可比矩阵\n",
    "\n",
    "# 计算雅可比矩阵\n",
    "for i in range(N1):\n",
    "    grad_y = torch.zeros_like(y)\n",
    "    grad_y[0, i] = 1  # 为当前输出元素设置梯度为1\n",
    "    y.backward(grad_y, retain_graph=True)  # 计算梯度\n",
    "    J[i] = x.grad.view(-1)  # 获取梯度并填充到雅可比矩阵中\n",
    "    x.grad.zero_()  # 重置梯度\n",
    "\n",
    "print(J)  # 输出雅可比矩阵"
   ]
  }
 ],
 "metadata": {
  "kernelspec": {
   "display_name": "Python 3",
   "language": "python",
   "name": "python3"
  },
  "language_info": {
   "codemirror_mode": {
    "name": "ipython",
    "version": 3
   },
   "file_extension": ".py",
   "mimetype": "text/x-python",
   "name": "python",
   "nbconvert_exporter": "python",
   "pygments_lexer": "ipython3",
   "version": "3.10.8"
  }
 },
 "nbformat": 4,
 "nbformat_minor": 2
}
